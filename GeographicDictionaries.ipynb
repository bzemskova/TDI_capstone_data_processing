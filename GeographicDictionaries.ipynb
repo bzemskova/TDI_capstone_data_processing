{
 "cells": [
  {
   "cell_type": "markdown",
   "metadata": {},
   "source": [
    "This notebook contains dictionaries that are used throughout the project to determine regions or state IDs or other relevant geographic classification information."
   ]
  },
  {
   "cell_type": "code",
   "execution_count": 1,
   "metadata": {},
   "outputs": [],
   "source": [
    "import pandas as pd\n",
    "import numpy as np\n",
    "import pickle"
   ]
  },
  {
   "cell_type": "code",
   "execution_count": null,
   "metadata": {},
   "outputs": [],
   "source": [
    "# Dictionary of which states belong to each economic region\n",
    "\n",
    "state_region_dict = {'New England':['Connecticut', 'Maine', 'Massachusetts', 'New Hampshire', 'Rhode Island', 'Vermont'],\n",
    "              'Mideast': ['Delaware', 'Washington, DC', 'Maryland', 'New Jersey', 'New York', 'Pennsylvania'],\n",
    "                'Great Lakes': ['Illinois', 'Indiana', 'Michigan', 'Ohio', 'Wisconsin'],\n",
    "                'Plains': ['Iowa', 'Kansas', 'Minnesota', 'Missouri', 'Nebraska', 'North Dakota', 'South Dakota'],\n",
    "                'South East': ['Alabama', 'Arkansas', 'Florida', 'Georgia', 'Kentucky', 'Louisiana',\n",
    "                              'Mississippi', 'North Carolina', 'South Carolina', 'Tennessee', 'Virginia', 'West Virginia'],\n",
    "                'South West': ['Arizona', 'New Mexico', 'Oklahoma', 'Texas'],\n",
    "                'Far West': ['Alaska', 'California', 'Hawaii', 'Nevada', 'Oregon', 'Washington'],\n",
    "                'Rocky Mountain': ['Colorado', 'Idaho', 'Montana', 'Utah', 'Wyoming']}\n",
    "pickle.dump(state_region_dict, open(\"state_region_dict.pkl\", \"wb\"))"
   ]
  },
  {
   "cell_type": "code",
   "execution_count": null,
   "metadata": {},
   "outputs": [],
   "source": [
    "# Dictionary of state IDs as federally defined\n",
    "\n",
    "state_dict = {\n",
    "    'All U.S.': 0,\n",
    "    'Alabama':1,\n",
    " 'Arizona':4,\n",
    " 'Arkansas':5,\n",
    " 'California':6,\n",
    " 'Colorado':8,\n",
    " 'Connecticut':9,\n",
    " 'Delaware':10,\n",
    " 'Florida':12,\n",
    " 'Georgia':13,\n",
    " 'Idaho':16,\n",
    " 'Illinois':17,\n",
    " 'Indiana':18,\n",
    " 'Iowa':19,\n",
    " 'Kansas':20,\n",
    " 'Kentucky':21,\n",
    " 'Louisiana':22,\n",
    " 'Maine':23,\n",
    " 'Maryland':24,\n",
    " 'Massachusetts':25,\n",
    " 'Michigan':26,\n",
    " 'Minnesota':27,\n",
    " 'Mississippi':28,\n",
    " 'Missouri':29,\n",
    " 'Montana':30,\n",
    " 'Nebraska':31,\n",
    " 'Nevada':32,\n",
    " 'New Hampshire':33,\n",
    " 'New Jersey':34,\n",
    " 'New Mexico':35,\n",
    " 'New York':36,\n",
    " 'North Carolina':37,\n",
    " 'North Dakota':38,\n",
    " 'Ohio':39,\n",
    " 'Oklahoma':40,\n",
    " 'Oregon':41,\n",
    " 'Pennsylvania':42,\n",
    " 'Rhode Island':44,\n",
    " 'South Carolina':45,\n",
    " 'South Dakota':46,\n",
    " 'Tennessee':47,\n",
    " 'Texas':48,\n",
    " 'Utah':49,\n",
    " 'Vermont':50,\n",
    " 'Virginia':51,\n",
    " 'Washington':53,\n",
    " 'Washington, DC':11,\n",
    " 'West Virginia':54,\n",
    " 'Wisconsin':55,\n",
    " 'Wyoming':56,\n",
    "}\n",
    "\n",
    "pickle.dump(state_dict, open(\"state_id_dict.pkl\", \"wb\"))"
   ]
  },
  {
   "cell_type": "code",
   "execution_count": 2,
   "metadata": {},
   "outputs": [],
   "source": [
    "var_dict = {'DP04_0089E': 'Median house price',\n",
    "            'Owner_Renter_ratio': 'Own-to-rent ratio',\n",
    "            'Median_income' : 'Median income',\n",
    "            'GDP_trend_norm': 'GDP trend',\n",
    "            'NO2_Monthly_AVG': 'Avg air pollution',\n",
    "            'VegInd_AnnualTrend': 'Vegetation trend',\n",
    "            'VegInd_Monthly_AVG': 'Avg vegetation coverage',\n",
    "            'LandTemp_AnnualTrend': 'Temperature trend',\n",
    "            'LandTemp_Monthly_AVG': 'Avg temperature',\n",
    "            'Precip_AnnualTrend': 'Precipitation trend',\n",
    "            'Precip_Monthly_AVG': 'Avg precipitation'}\n",
    "pickle.dump(var_dict, open(\"econ_env_predictors_dict.pkl\", \"wb\"))"
   ]
  }
 ],
 "metadata": {
  "kernelspec": {
   "display_name": "Python 3 (ipykernel)",
   "language": "python",
   "name": "python3"
  },
  "language_info": {
   "codemirror_mode": {
    "name": "ipython",
    "version": 3
   },
   "file_extension": ".py",
   "mimetype": "text/x-python",
   "name": "python",
   "nbconvert_exporter": "python",
   "pygments_lexer": "ipython3",
   "version": "3.9.7"
  }
 },
 "nbformat": 4,
 "nbformat_minor": 4
}

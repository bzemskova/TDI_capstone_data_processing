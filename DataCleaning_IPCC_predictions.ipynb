{
 "cells": [
  {
   "cell_type": "markdown",
   "metadata": {},
   "source": [
    "This notebook processes IPCC climate predictions for temperature and precipitation rates from latitude-longitude data layout in arrays to averages over each 3-digit zipcode area."
   ]
  },
  {
   "cell_type": "code",
   "execution_count": 1,
   "metadata": {},
   "outputs": [],
   "source": [
    "import numpy as np\n",
    "import pandas as pd"
   ]
  },
  {
   "cell_type": "code",
   "execution_count": null,
   "metadata": {},
   "outputs": [],
   "source": [
    "# Load data frame that contains all economic and environmental data tabulated at 3-digit zipcode level\n",
    "\n",
    "master_df = pd.read_pickle('master_econ_env_data_zcta.pkl')\n",
    "rcp_pred_df = master_df.copy()"
   ]
  },
  {
   "cell_type": "code",
   "execution_count": 3,
   "metadata": {},
   "outputs": [
    {
     "data": {
      "text/plain": [
       "['ts_trend', 'ts_mean', 'pr_trend', 'pr_mean', 'lat', 'lon']"
      ]
     },
     "execution_count": 3,
     "metadata": {},
     "output_type": "execute_result"
    }
   ],
   "source": [
    "# Load file with temperatures, temperature trends, precipitation rates, precipitation trends\n",
    "# predicted for 2027-2030 using IPCC RCP4_5 (\"best case scenario\") climate model\n",
    "\n",
    "data = np.load('RCP4_5_precip_temp.npz')\n",
    "data.files"
   ]
  },
  {
   "cell_type": "code",
   "execution_count": 32,
   "metadata": {
    "scrolled": true
   },
   "outputs": [],
   "source": [
    "# Load data and shift longitude by 180 degrees to align with longitudinal convention\n",
    "\n",
    "ts_trend = data['ts_trend']\n",
    "ts_mean = data['ts_mean']\n",
    "pr_trend = data['pr_trend']\n",
    "pr_mean = data['pr_mean']\n",
    "lat_v = data['lat']\n",
    "lon_v = data['lon']\n",
    "lon_v_adj = np.zeros((len(lon_v),))\n",
    "for i in range(len(lon_v_adj)):\n",
    "    if lon_v[i]<=180:\n",
    "        lon_v_adj[i]=lon_v[i]\n",
    "    else:\n",
    "        lon_v_adj[i]=lon_v[i]-360\n",
    "Lat,Lon = np.meshgrid(lat_v,lon_v_adj)"
   ]
  },
  {
   "cell_type": "code",
   "execution_count": null,
   "metadata": {},
   "outputs": [],
   "source": [
    "# Now for each 3-digit zipcode, either \n",
    "# (1) average data within the zipcode radius (approximated) using \"as-crow-flies\" lat/lon distance or\n",
    "# (2) if no data points within the zipcode radius, find the nearerst data point and record distance\n",
    "\n",
    "rcp_pred_df['RCP4_5_precip_mean']=np.nan\n",
    "rcp_pred_df['RCP4_5_precip_trend']=np.nan\n",
    "rcp_pred_df['RCP4_5_temp_mean']=np.nan\n",
    "rcp_pred_df['RCP4_5_temp_trend']=np.nan\n",
    "\n",
    "for j in range(len(rcp_pred_df)):\n",
    "    lat1 = rcp_pred_df['INTPTLAT'][j]\n",
    "    lon1 = rcp_pred_df['INTPTLONG'][j]\n",
    "    dist = np.sqrt(((Lat-lat1)*111.)**2+(111*(Lon-lon1))**2)\n",
    "    \n",
    "    ind1 = np.where(dist<=rcp_pred_df.loc[j,'Radius'])\n",
    "    if len(ind1[0])>0:\n",
    "        rcp_pred_df.loc[j,'RCP4_5_precip_mean']=np.nanmean(pr_mean[ind1[1],\n",
    "                                                                    ind1[0]])\n",
    "        rcp_pred_df.loc[j,'RCP4_5_precip_trend']=np.nanmean(pr_trend[ind1[1],\n",
    "                                                                     ind1[0]])\n",
    "        \n",
    "        rcp_pred_df.loc[j,'RCP4_5_temp_mean']=np.nanmean(ts_mean[ind1[1],\n",
    "                                                                    ind1[0]])\n",
    "        rcp_pred_df.loc[j,'RCP4_5_temp_trend']=np.nanmean(ts_trend[ind1[1],\n",
    "                                                                     ind1[0]])\n",
    "    else:\n",
    "        ii = np.where(dist==np.nanmin(dist))\n",
    "        rcp_pred_df.loc[j,'RCP4_5_precip_mean']=pr_mean[ii[1],ii[0]]\n",
    "        rcp_pred_df.loc[j,'RCP4_5_precip_trend']=pr_trend[ii[1],ii[0]]\n",
    "        rcp_pred_df.loc[j,'RCP4_5_temp_mean']=ts_mean[ii[1],ii[0]]\n",
    "        rcp_pred_df.loc[j,'RCP4_5_temp_trend']=ts_trend[ii[1],ii[0]]"
   ]
  },
  {
   "cell_type": "code",
   "execution_count": 45,
   "metadata": {},
   "outputs": [],
   "source": [
    "# Repeat the same procedure with temperatures, temperature trends, precipitation rates, precipitation trends\n",
    "# predicted for 2027-2030 using IPCC RCP8_5 (\"intermediate case scenario\") climate model\n",
    "\n",
    "data = np.load('RCP8_5_precip_temp.npz')\n",
    "ts_trend = data['ts_trend']\n",
    "ts_mean = data['ts_mean']\n",
    "pr_trend = data['pr_trend']\n",
    "pr_mean = data['pr_mean']\n",
    "lat_v = data['lat']\n",
    "lon_v = data['lon']\n",
    "lon_v_adj = np.zeros((len(lon_v),))\n",
    "for i in range(len(lon_v_adj)):\n",
    "    if lon_v[i]<=180:\n",
    "        lon_v_adj[i]=lon_v[i]\n",
    "    else:\n",
    "        lon_v_adj[i]=lon_v[i]-360\n",
    "Lat,Lon = np.meshgrid(lat_v,lon_v_adj)\n",
    "\n",
    "rcp_pred_df['RCP8_5_precip_mean']=np.nan\n",
    "rcp_pred_df['RCP8_5_precip_trend']=np.nan\n",
    "rcp_pred_df['RCP8_5_temp_mean']=np.nan\n",
    "rcp_pred_df['RCP8_5_temp_trend']=np.nan\n",
    "\n",
    "for j in range(len(rcp_pred_df)):\n",
    "    lat1 = rcp_pred_df['INTPTLAT'][j]\n",
    "    lon1 = rcp_pred_df['INTPTLONG'][j]\n",
    "    dist = np.sqrt(((Lat-lat1)*111.)**2+(111*(Lon-lon1))**2)\n",
    "    \n",
    "    ind1 = np.where(dist<=rcp_pred_df.loc[j,'Radius'])\n",
    "    if len(ind1[0])>0:\n",
    "        rcp_pred_df.loc[j,'RCP8_5_precip_mean']=np.nanmean(pr_mean[ind1[1],\n",
    "                                                                 ind1[0]])\n",
    "        rcp_pred_df.loc[j,'RCP8_5_precip_trend']=np.nanmean(pr_trend[ind1[1],\n",
    "                                                                     ind1[0]])\n",
    "        \n",
    "        rcp_pred_df.loc[j,'RCP8_5_temp_mean']=np.nanmean(ts_mean[ind1[1],\n",
    "                                                                    ind1[0]])\n",
    "        rcp_pred_df.loc[j,'RCP8_5_temp_trend']=np.nanmean(ts_trend[ind1[1],\n",
    "                                                                     ind1[0]])\n",
    "    else:\n",
    "        ii = np.where(dist==np.nanmin(dist))\n",
    "        rcp_pred_df.loc[j,'RCP8_5_precip_mean']=pr_mean[ii[1],ii[0]]\n",
    "        rcp_pred_df.loc[j,'RCP8_5_precip_trend']=pr_trend[ii[1],ii[0]]\n",
    "        rcp_pred_df.loc[j,'RCP8_5_temp_mean']=ts_mean[ii[1],ii[0]]\n",
    "        rcp_pred_df.loc[j,'RCP8_5_temp_trend']=ts_trend[ii[1],ii[0]]"
   ]
  },
  {
   "cell_type": "code",
   "execution_count": 50,
   "metadata": {},
   "outputs": [],
   "source": [
    "# Pickle the dataframe so that it can be used later (Predicting_Future_HPI.ipynb)\n",
    "rcp_pred_df.to_pickle('ipcc_master_df.pkl')"
   ]
  }
 ],
 "metadata": {
  "kernelspec": {
   "display_name": "Python 3 (ipykernel)",
   "language": "python",
   "name": "python3"
  },
  "language_info": {
   "codemirror_mode": {
    "name": "ipython",
    "version": 3
   },
   "file_extension": ".py",
   "mimetype": "text/x-python",
   "name": "python",
   "nbconvert_exporter": "python",
   "pygments_lexer": "ipython3",
   "version": "3.9.7"
  }
 },
 "nbformat": 4,
 "nbformat_minor": 4
}
